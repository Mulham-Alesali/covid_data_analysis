{
 "cells": [
  {
   "cell_type": "code",
   "execution_count": 3,
   "metadata": {},
   "outputs": [],
   "source": [
    "import pandas as pd"
   ]
  },
  {
   "cell_type": "markdown",
   "metadata": {},
   "source": [
    "### show downloaded files"
   ]
  },
  {
   "cell_type": "code",
   "execution_count": 8,
   "metadata": {},
   "outputs": [
    {
     "data": {
      "text/plain": [
       "['14_bevoelkerungsvorausberechnung_daten.csv',\n",
       " 'sonderauswertung-sterbefaelle-endgueltige-daten (1).xlsx',\n",
       " 'sonderauswertung-sterbefaelle-endgueltige-daten (2).xlsx',\n",
       " 'sonderauswertung-sterbefaelle-endgueltige-daten.xlsx']"
      ]
     },
     "execution_count": 8,
     "metadata": {},
     "output_type": "execute_result"
    }
   ],
   "source": [
    "import os\n",
    "arr = os.listdir('data')\n",
    "arr"
   ]
  },
  {
   "cell_type": "code",
   "execution_count": 11,
   "metadata": {},
   "outputs": [],
   "source": [
    "bevoelkerungsvorausberechnung_df = pd.read_csv(\"data/14_bevoelkerungsvorausberechnung_daten.csv\",delimiter=';')"
   ]
  },
  {
   "cell_type": "code",
   "execution_count": 22,
   "metadata": {},
   "outputs": [
    {
     "data": {
      "text/html": [
       "<div>\n",
       "<style scoped>\n",
       "    .dataframe tbody tr th:only-of-type {\n",
       "        vertical-align: middle;\n",
       "    }\n",
       "\n",
       "    .dataframe tbody tr th {\n",
       "        vertical-align: top;\n",
       "    }\n",
       "\n",
       "    .dataframe thead th {\n",
       "        text-align: right;\n",
       "    }\n",
       "</style>\n",
       "<table border=\"1\" class=\"dataframe\">\n",
       "  <thead>\n",
       "    <tr style=\"text-align: right;\">\n",
       "      <th></th>\n",
       "      <th>Variante</th>\n",
       "      <th>Simulationsjahr</th>\n",
       "      <th>mw</th>\n",
       "      <th>Bev</th>\n",
       "      <th>Bev_0_1</th>\n",
       "    </tr>\n",
       "  </thead>\n",
       "  <tbody>\n",
       "    <tr>\n",
       "      <td>122</td>\n",
       "      <td>0</td>\n",
       "      <td>2011</td>\n",
       "      <td>m</td>\n",
       "      <td>39230</td>\n",
       "      <td>337</td>\n",
       "    </tr>\n",
       "    <tr>\n",
       "      <td>123</td>\n",
       "      <td>0</td>\n",
       "      <td>2011</td>\n",
       "      <td>w</td>\n",
       "      <td>41098</td>\n",
       "      <td>321</td>\n",
       "    </tr>\n",
       "    <tr>\n",
       "      <td>124</td>\n",
       "      <td>0</td>\n",
       "      <td>2012</td>\n",
       "      <td>m</td>\n",
       "      <td>39377</td>\n",
       "      <td>346</td>\n",
       "    </tr>\n",
       "    <tr>\n",
       "      <td>125</td>\n",
       "      <td>0</td>\n",
       "      <td>2012</td>\n",
       "      <td>w</td>\n",
       "      <td>41120</td>\n",
       "      <td>328</td>\n",
       "    </tr>\n",
       "    <tr>\n",
       "      <td>126</td>\n",
       "      <td>0</td>\n",
       "      <td>2013</td>\n",
       "      <td>m</td>\n",
       "      <td>39557</td>\n",
       "      <td>350</td>\n",
       "    </tr>\n",
       "    <tr>\n",
       "      <td>...</td>\n",
       "      <td>...</td>\n",
       "      <td>...</td>\n",
       "      <td>...</td>\n",
       "      <td>...</td>\n",
       "      <td>...</td>\n",
       "    </tr>\n",
       "    <tr>\n",
       "      <td>2323</td>\n",
       "      <td>27</td>\n",
       "      <td>2019</td>\n",
       "      <td>w</td>\n",
       "      <td>42145</td>\n",
       "      <td>384</td>\n",
       "    </tr>\n",
       "    <tr>\n",
       "      <td>2324</td>\n",
       "      <td>27</td>\n",
       "      <td>2020</td>\n",
       "      <td>m</td>\n",
       "      <td>41176</td>\n",
       "      <td>403</td>\n",
       "    </tr>\n",
       "    <tr>\n",
       "      <td>2325</td>\n",
       "      <td>27</td>\n",
       "      <td>2020</td>\n",
       "      <td>w</td>\n",
       "      <td>42232</td>\n",
       "      <td>383</td>\n",
       "    </tr>\n",
       "    <tr>\n",
       "      <td>2326</td>\n",
       "      <td>27</td>\n",
       "      <td>2021</td>\n",
       "      <td>m</td>\n",
       "      <td>41272</td>\n",
       "      <td>401</td>\n",
       "    </tr>\n",
       "    <tr>\n",
       "      <td>2327</td>\n",
       "      <td>27</td>\n",
       "      <td>2021</td>\n",
       "      <td>w</td>\n",
       "      <td>42313</td>\n",
       "      <td>381</td>\n",
       "    </tr>\n",
       "  </tbody>\n",
       "</table>\n",
       "<p>178 rows × 5 columns</p>\n",
       "</div>"
      ],
      "text/plain": [
       "      Variante  Simulationsjahr mw    Bev  Bev_0_1\n",
       "122          0             2011  m  39230      337\n",
       "123          0             2011  w  41098      321\n",
       "124          0             2012  m  39377      346\n",
       "125          0             2012  w  41120      328\n",
       "126          0             2013  m  39557      350\n",
       "...        ...              ... ..    ...      ...\n",
       "2323        27             2019  w  42145      384\n",
       "2324        27             2020  m  41176      403\n",
       "2325        27             2020  w  42232      383\n",
       "2326        27             2021  m  41272      401\n",
       "2327        27             2021  w  42313      381\n",
       "\n",
       "[178 rows x 5 columns]"
      ]
     },
     "execution_count": 22,
     "metadata": {},
     "output_type": "execute_result"
    }
   ],
   "source": [
    "cols = bevoelkerungsvorausberechnung_df.columns\n",
    "bevoelkerungsvorausberechnung_df[cols[0:5]].loc[(bevoelkerungsvorausberechnung_df['Simulationsjahr'] < 2022) & (bevoelkerungsvorausberechnung_df['Simulationsjahr'] > 2010)]"
   ]
  },
  {
   "cell_type": "markdown",
   "metadata": {},
   "source": [
    "## Sterberate pro Altersgruppe 2016-2022"
   ]
  },
  {
   "cell_type": "code",
   "execution_count": 62,
   "metadata": {},
   "outputs": [],
   "source": [
    "sterberate_16_22 = pd.read_excel('data/Sterberate pro Altersgruppe 2016-2022.xlsx','D_2016_2022_Tage')"
   ]
  },
  {
   "cell_type": "code",
   "execution_count": 63,
   "metadata": {},
   "outputs": [],
   "source": [
    "sterberate_16_22.rename(columns = {'Stand: 02.05.2022':'year', 'Unnamed: 367':'Insgesamt'}, inplace = True)\n",
    "df_16_22 = sterberate_16_22[['year','Insgesamt']][9:].sort_values('year')"
   ]
  },
  {
   "cell_type": "markdown",
   "metadata": {},
   "source": [
    "## Sterberate pro Altersgruppe 2000-2016"
   ]
  },
  {
   "cell_type": "code",
   "execution_count": 64,
   "metadata": {},
   "outputs": [],
   "source": [
    "sterberate_00_16 = pd.read_excel('data/Sterberate pro Altersgruppe 2000-2016.xlsx','D_2000_2015_Tage')"
   ]
  },
  {
   "cell_type": "code",
   "execution_count": 65,
   "metadata": {},
   "outputs": [],
   "source": [
    "sterberate_00_16.rename(columns = {'Unnamed: 0':'year', 'Unnamed: 367':'Insgesamt'}, inplace = True)"
   ]
  },
  {
   "cell_type": "code",
   "execution_count": 66,
   "metadata": {},
   "outputs": [],
   "source": [
    "df_00_16 = sterberate_00_16[['year','Insgesamt']][9:].sort_values('year')"
   ]
  },
  {
   "cell_type": "code",
   "execution_count": 67,
   "metadata": {},
   "outputs": [],
   "source": [
    "# Stack the DataFrames on top of each other\n",
    "vertical_stack = pd.concat([df_00_16, df_16_22], axis=0)"
   ]
  },
  {
   "cell_type": "code",
   "execution_count": 76,
   "metadata": {
    "scrolled": true
   },
   "outputs": [
    {
     "data": {
      "text/plain": [
       "<matplotlib.axes._subplots.AxesSubplot at 0x1cfb5e32e08>"
      ]
     },
     "execution_count": 76,
     "metadata": {},
     "output_type": "execute_result"
    },
    {
     "data": {
      "image/png": "[encoded data removed]",
      "text/plain": [
       "<Figure size 432x288 with 1 Axes>"
      ]
     },
     "metadata": {
      "needs_background": "light"
     },
     "output_type": "display_data"
    }
   ],
   "source": [
    "vertical_stack.plot(x='year',y='Insgesamt',kind='bar')"
   ]
  },
  {
   "cell_type": "code",
   "execution_count": null,
   "metadata": {},
   "outputs": [],
   "source": []
  }
 ],
 "metadata": {
  "kernelspec": {
   "display_name": "Python 3",
   "language": "python",
   "name": "python3"
  },
  "language_info": {
   "codemirror_mode": {
    "name": "ipython",
    "version": 3
   },
   "file_extension": ".py",
   "mimetype": "text/x-python",
   "name": "python",
   "nbconvert_exporter": "python",
   "pygments_lexer": "ipython3",
   "version": "3.7.4"
  }
 },
 "nbformat": 4,
 "nbformat_minor": 2
}
